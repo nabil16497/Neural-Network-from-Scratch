{
 "cells": [
  {
   "cell_type": "code",
   "execution_count": 1,
   "id": "30079fd4",
   "metadata": {},
   "outputs": [],
   "source": [
    "import numpy as np"
   ]
  },
  {
   "cell_type": "code",
   "execution_count": 2,
   "id": "d19cce70",
   "metadata": {},
   "outputs": [
    {
     "data": {
      "text/plain": [
       "4"
      ]
     },
     "execution_count": 2,
     "metadata": {},
     "output_type": "execute_result"
    }
   ],
   "source": [
    "i = [[2,3,5,1],\n",
    "     [1,-0.3,0.5,0.8],\n",
    "     [0.5,2,0.8,-2]]\n",
    "len(np.array(i).T)"
   ]
  },
  {
   "cell_type": "code",
   "execution_count": 3,
   "id": "4e83b48b",
   "metadata": {},
   "outputs": [],
   "source": [
    "np.random.seed(0)\n",
    "def weightdef(n_shape):\n",
    "    return np.random.randn(n_shape,n_shape)\n",
    "    "
   ]
  },
  {
   "cell_type": "code",
   "execution_count": 4,
   "id": "abe3334f",
   "metadata": {},
   "outputs": [],
   "source": [
    "def layer(i):\n",
    "    w=weightdef(len(np.array(i).T))\n",
    "    bias=np.zeros((1,len(np.array(i).T)))\n",
    "    return ReLU((np.dot(i,w)+bias))"
   ]
  },
  {
   "cell_type": "code",
   "execution_count": 5,
   "id": "12bc0b53",
   "metadata": {},
   "outputs": [],
   "source": [
    "exp_val=np.exp(i-np.max(i,axis=1,keepdims=True)) \n",
    "output= exp_val/np.sum(exp_val, axis=1, keepdims=True)"
   ]
  },
  {
   "cell_type": "code",
   "execution_count": 6,
   "id": "576f5b73",
   "metadata": {},
   "outputs": [
    {
     "name": "stdout",
     "output_type": "stream",
     "text": [
      "[[0.04978707 0.13533528 1.         0.01831564]\n",
      " [1.         0.27253179 0.60653066 0.81873075]\n",
      " [0.22313016 1.         0.30119421 0.01831564]]\n"
     ]
    }
   ],
   "source": [
    "print(exp_val)"
   ]
  },
  {
   "cell_type": "code",
   "execution_count": 7,
   "id": "67617043",
   "metadata": {},
   "outputs": [
    {
     "name": "stdout",
     "output_type": "stream",
     "text": [
      "[[0.0413707  0.11245721 0.83095266 0.01521943]\n",
      " [0.37067333 0.10102027 0.22482474 0.30348166]\n",
      " [0.14464176 0.64823938 0.19524595 0.01187292]]\n"
     ]
    }
   ],
   "source": [
    "print(output)"
   ]
  },
  {
   "cell_type": "code",
   "execution_count": null,
   "id": "e7a69e98",
   "metadata": {},
   "outputs": [],
   "source": []
  },
  {
   "cell_type": "code",
   "execution_count": null,
   "id": "bc9ee87a",
   "metadata": {},
   "outputs": [],
   "source": []
  },
  {
   "cell_type": "code",
   "execution_count": null,
   "id": "f1cccc50",
   "metadata": {},
   "outputs": [],
   "source": []
  },
  {
   "cell_type": "code",
   "execution_count": null,
   "id": "b586c39f",
   "metadata": {},
   "outputs": [],
   "source": []
  },
  {
   "cell_type": "code",
   "execution_count": 8,
   "id": "5550416e",
   "metadata": {},
   "outputs": [],
   "source": [
    "class Layer:\n",
    "    def __init__(self, num_input, num_neurons):\n",
    "        self.weight=0.01*np.random.randn(num_input,num_neurons)\n",
    "        self.bias=np.zeros((1,num_neurons))\n",
    "    def forward(self,inputs):\n",
    "         self.output= np.dot(inputs,self.weight)+self.bias"
   ]
  },
  {
   "cell_type": "code",
   "execution_count": null,
   "id": "78d83f28",
   "metadata": {},
   "outputs": [],
   "source": []
  },
  {
   "cell_type": "code",
   "execution_count": null,
   "id": "dc8ccc95",
   "metadata": {},
   "outputs": [],
   "source": []
  },
  {
   "cell_type": "raw",
   "id": "3d2445e5",
   "metadata": {},
   "source": []
  },
  {
   "cell_type": "code",
   "execution_count": 9,
   "id": "432454e2",
   "metadata": {},
   "outputs": [],
   "source": [
    "class ReLU:\n",
    "    def forward(self,x):\n",
    "        self.output= np.maximum(0,x)"
   ]
  },
  {
   "cell_type": "code",
   "execution_count": 10,
   "id": "38785127",
   "metadata": {},
   "outputs": [],
   "source": [
    "def fix_dim_error(X):\n",
    "    exp_val=[]\n",
    "    for i in X:\n",
    "        tempexp=[]\n",
    "        for j in i:\n",
    "            val=j\n",
    "            tempexp.append(val)\n",
    "        exp_val.append(tempexp)\n",
    "    return exp_val"
   ]
  },
  {
   "cell_type": "code",
   "execution_count": 11,
   "id": "2313a255",
   "metadata": {},
   "outputs": [],
   "source": [
    "class Softmax:\n",
    "    def forward(self,x):\n",
    "        x=fix_dim_error(x)\n",
    "        exp_val=np.exp(x - np.max(x, axis=1, keepdims=True))\n",
    "        self.output= (exp_val / np.sum(exp_val, axis=1, keepdims=True))"
   ]
  },
  {
   "cell_type": "code",
   "execution_count": 12,
   "id": "d4b1d39f",
   "metadata": {},
   "outputs": [
    {
     "name": "stdout",
     "output_type": "stream",
     "text": [
      "[[0.0413707  0.11245721 0.83095266 0.01521943]\n",
      " [0.37067333 0.10102027 0.22482474 0.30348166]\n",
      " [0.14464176 0.64823938 0.19524595 0.01187292]]\n",
      "[[1.]\n",
      " [1.]\n",
      " [1.]]\n"
     ]
    }
   ],
   "source": [
    "act=Softmax()\n",
    "act.forward(i)\n",
    "print(act.output)\n",
    "print(np.sum(act.output,axis=1,keepdims=True))"
   ]
  },
  {
   "cell_type": "code",
   "execution_count": 13,
   "id": "05a35530",
   "metadata": {},
   "outputs": [],
   "source": [
    "class Loss:\n",
    "    def calculate(self, result, y):\n",
    "        sample_loss= self.forward(result,y)\n",
    "        return np.mean(sample_loss)"
   ]
  },
  {
   "cell_type": "code",
   "execution_count": 14,
   "id": "29d34be9",
   "metadata": {},
   "outputs": [],
   "source": [
    "class Categorical_Crossentropy(Loss):\n",
    "    def forward(self,predict,y):\n",
    "        predict_clipped= np.clip(predict,1e-7,1-1e-7)\n",
    "        if(len(y.shape)==1):\n",
    "            currect_pred = predict_clipped[range(len(predict_clipped)),y]\n",
    "        else:\n",
    "            currect_pred = np.sum(predict_clipped*y, axis=1)\n",
    "        return -np.log(currect_pred)"
   ]
  },
  {
   "cell_type": "code",
   "execution_count": null,
   "id": "36c0fdb5",
   "metadata": {},
   "outputs": [],
   "source": []
  },
  {
   "cell_type": "code",
   "execution_count": 15,
   "id": "4d2e89c4",
   "metadata": {},
   "outputs": [],
   "source": [
    "def Accuracy(output,target): \n",
    "    predict=np.argmax(output, axis=1)\n",
    "    target=np.argmax(target, axis=1)\n",
    "    return- np.mean(predict == target)"
   ]
  },
  {
   "cell_type": "code",
   "execution_count": 16,
   "id": "f0b6ed1d",
   "metadata": {},
   "outputs": [],
   "source": [
    "import pandas as pd"
   ]
  },
  {
   "cell_type": "code",
   "execution_count": 17,
   "id": "e546462b",
   "metadata": {},
   "outputs": [],
   "source": [
    "df=pd.read_excel('test1file(fsdnoisy).xlsx')\n",
    "\n",
    " \n",
    "\n",
    "df['feature']=df['feature'].str.lstrip('[')\n",
    "df['feature']=df['feature'].str.rstrip(']')\n",
    "\n",
    "features= df['feature'].str.split(expand=True)\n",
    "classes=df.drop(['feature','Unnamed: 0'],axis=1)\n",
    "\n",
    "feature_df_test=pd.concat([features,classes],axis=1)\n",
    "for col in feature_df_test.columns:\n",
    "             feature_df_test[col] = feature_df_test[col].astype('float', errors='ignore')"
   ]
  },
  {
   "cell_type": "code",
   "execution_count": 18,
   "id": "759ef0c8",
   "metadata": {},
   "outputs": [],
   "source": [
    "X=feature_df_test.values[:,0:-1]\n",
    "y=np.array(feature_df_test['class'].tolist())\n"
   ]
  },
  {
   "cell_type": "code",
   "execution_count": 19,
   "id": "843c3519",
   "metadata": {},
   "outputs": [
    {
     "data": {
      "text/plain": [
       "array([[-209.93578, 63.42263, -123.69025, ..., 1.4747163, -5.187261,\n",
       "        2.3625958],\n",
       "       [-417.291046, 100.148506, -43.8692513, ..., 1.26949859,\n",
       "        -2.04816842, 0.453536361],\n",
       "       [-452.77457, 113.24303, -38.501553, ..., 0.72960454, -2.7218251,\n",
       "        0.81479305],\n",
       "       ...,\n",
       "       [-297.74582, 102.95336, -37.630085, ..., 2.3270385, 1.850992,\n",
       "        -0.24204774],\n",
       "       [-337.20972, 116.19127, -45.74678, ..., 0.47457361, -1.3576933,\n",
       "        -1.6199757],\n",
       "       [-307.73666, 84.129173, -26.636988, ..., 5.0096831, -4.3950777,\n",
       "        -7.3455243]], dtype=object)"
      ]
     },
     "execution_count": 19,
     "metadata": {},
     "output_type": "execute_result"
    }
   ],
   "source": [
    "X"
   ]
  },
  {
   "cell_type": "code",
   "execution_count": null,
   "id": "e4d976ff",
   "metadata": {},
   "outputs": [],
   "source": []
  },
  {
   "cell_type": "code",
   "execution_count": null,
   "id": "26637c3f",
   "metadata": {},
   "outputs": [],
   "source": []
  },
  {
   "cell_type": "code",
   "execution_count": null,
   "id": "026dd3bd",
   "metadata": {},
   "outputs": [],
   "source": []
  },
  {
   "cell_type": "code",
   "execution_count": 20,
   "id": "cbcaa740",
   "metadata": {},
   "outputs": [
    {
     "data": {
      "text/plain": [
       "array(['dog_bark', 'children_playing', 'children_playing', ...,\n",
       "       'car_horn', 'car_horn', 'car_horn'], dtype='<U16')"
      ]
     },
     "execution_count": 20,
     "metadata": {},
     "output_type": "execute_result"
    }
   ],
   "source": [
    "y"
   ]
  },
  {
   "cell_type": "code",
   "execution_count": 21,
   "id": "6145605a",
   "metadata": {},
   "outputs": [],
   "source": [
    "from tensorflow.keras.utils import to_categorical\n",
    "from sklearn.preprocessing import LabelEncoder\n",
    "labelencoder=LabelEncoder()\n",
    "y=to_categorical(labelencoder.fit_transform(y))"
   ]
  },
  {
   "cell_type": "code",
   "execution_count": 22,
   "id": "546c2c7b",
   "metadata": {},
   "outputs": [
    {
     "data": {
      "text/plain": [
       "array([[0., 0., 0., ..., 0., 0., 0.],\n",
       "       [0., 0., 1., ..., 0., 0., 0.],\n",
       "       [0., 0., 1., ..., 0., 0., 0.],\n",
       "       ...,\n",
       "       [0., 1., 0., ..., 0., 0., 0.],\n",
       "       [0., 1., 0., ..., 0., 0., 0.],\n",
       "       [0., 1., 0., ..., 0., 0., 0.]], dtype=float32)"
      ]
     },
     "execution_count": 22,
     "metadata": {},
     "output_type": "execute_result"
    }
   ],
   "source": [
    "y"
   ]
  },
  {
   "cell_type": "code",
   "execution_count": 23,
   "id": "d473da06",
   "metadata": {},
   "outputs": [],
   "source": [
    "layer1=Layer(50,8725)\n",
    "activation1= ReLU()\n",
    "layer2=Layer(8725,10)\n",
    "activation_softmax=Softmax()"
   ]
  },
  {
   "cell_type": "code",
   "execution_count": 24,
   "id": "968e1180",
   "metadata": {},
   "outputs": [],
   "source": [
    "layer1.forward(X)\n",
    "activation1.forward(layer1.output)\n",
    "layer2.forward(activation1.output)\n",
    "activation_softmax.forward(layer2.output)"
   ]
  },
  {
   "cell_type": "code",
   "execution_count": null,
   "id": "1a14331e",
   "metadata": {},
   "outputs": [],
   "source": []
  },
  {
   "cell_type": "code",
   "execution_count": 25,
   "id": "5b6f4bbd",
   "metadata": {},
   "outputs": [
    {
     "data": {
      "text/plain": [
       "2.959290435886195"
      ]
     },
     "execution_count": 25,
     "metadata": {},
     "output_type": "execute_result"
    }
   ],
   "source": [
    "loss=Categorical_Crossentropy()\n",
    "loss.calculate(activation_softmax.output,y)"
   ]
  },
  {
   "cell_type": "code",
   "execution_count": null,
   "id": "57e6b8cc",
   "metadata": {},
   "outputs": [],
   "source": []
  },
  {
   "cell_type": "code",
   "execution_count": 26,
   "id": "825dfc68",
   "metadata": {},
   "outputs": [
    {
     "data": {
      "text/plain": [
       "-0.10853868194842407"
      ]
     },
     "execution_count": 26,
     "metadata": {},
     "output_type": "execute_result"
    }
   ],
   "source": [
    "Accuracy(activation_softmax.output,y)"
   ]
  },
  {
   "cell_type": "code",
   "execution_count": 27,
   "id": "228c146d",
   "metadata": {},
   "outputs": [],
   "source": [
    "result=np.argmax(activation_softmax.output, axis=1) == np.argmax(y, axis=1)"
   ]
  },
  {
   "cell_type": "code",
   "execution_count": 28,
   "id": "e12b019d",
   "metadata": {},
   "outputs": [
    {
     "data": {
      "text/plain": [
       "array([False,  True])"
      ]
     },
     "execution_count": 28,
     "metadata": {},
     "output_type": "execute_result"
    }
   ],
   "source": [
    "np.unique(result)"
   ]
  },
  {
   "cell_type": "code",
   "execution_count": 29,
   "id": "f1de6bd4",
   "metadata": {},
   "outputs": [
    {
     "data": {
      "text/plain": [
       "947"
      ]
     },
     "execution_count": 29,
     "metadata": {},
     "output_type": "execute_result"
    }
   ],
   "source": [
    "count=0\n",
    "for i in result:\n",
    "    if i:\n",
    "        count+=1\n",
    "count"
   ]
  },
  {
   "cell_type": "code",
   "execution_count": null,
   "id": "0426c2b2",
   "metadata": {},
   "outputs": [],
   "source": []
  }
 ],
 "metadata": {
  "kernelspec": {
   "display_name": "Python 3",
   "language": "python",
   "name": "python3"
  },
  "language_info": {
   "codemirror_mode": {
    "name": "ipython",
    "version": 3
   },
   "file_extension": ".py",
   "mimetype": "text/x-python",
   "name": "python",
   "nbconvert_exporter": "python",
   "pygments_lexer": "ipython3",
   "version": "3.8.8"
  }
 },
 "nbformat": 4,
 "nbformat_minor": 5
}
