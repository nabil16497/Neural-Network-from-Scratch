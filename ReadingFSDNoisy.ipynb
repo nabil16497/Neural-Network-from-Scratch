{
 "cells": [
  {
   "cell_type": "code",
   "execution_count": 6,
   "id": "24800368",
   "metadata": {},
   "outputs": [],
   "source": [
    "import pandas as pd\n",
    "import numpy as np"
   ]
  },
  {
   "cell_type": "code",
   "execution_count": 7,
   "id": "ec25a9ad",
   "metadata": {},
   "outputs": [],
   "source": [
    "df=pd.read_excel('test1file(fsdnoisy).xlsx')\n",
    "\n",
    " \n",
    "\n",
    "df['feature']=df['feature'].str.lstrip('[')\n",
    "df['feature']=df['feature'].str.rstrip(']')\n",
    "\n",
    "features= df['feature'].str.split(expand=True)\n",
    "classes=df.drop(['feature','Unnamed: 0'],axis=1)\n",
    "\n",
    "feature_df_test=pd.concat([features,classes],axis=1)\n",
    "for col in feature_df_test.columns:\n",
    "             feature_df_test[col] = feature_df_test[col].astype('float', errors='ignore')"
   ]
  },
  {
   "cell_type": "code",
   "execution_count": 8,
   "id": "b4f38013",
   "metadata": {},
   "outputs": [],
   "source": [
    "X=feature_df_test.values[:,0:-1]\n",
    "Y=np.array(feature_df_test['class'].tolist())"
   ]
  },
  {
   "cell_type": "code",
   "execution_count": 9,
   "id": "a5199c1b",
   "metadata": {},
   "outputs": [
    {
     "data": {
      "text/plain": [
       "(8725, 50)"
      ]
     },
     "execution_count": 9,
     "metadata": {},
     "output_type": "execute_result"
    }
   ],
   "source": [
    "X.shape\n"
   ]
  },
  {
   "cell_type": "code",
   "execution_count": 10,
   "id": "80c2aee5",
   "metadata": {},
   "outputs": [
    {
     "data": {
      "text/plain": [
       "(8725,)"
      ]
     },
     "execution_count": 10,
     "metadata": {},
     "output_type": "execute_result"
    }
   ],
   "source": [
    "Y.shape"
   ]
  },
  {
   "cell_type": "code",
   "execution_count": null,
   "id": "96dde417",
   "metadata": {},
   "outputs": [],
   "source": []
  }
 ],
 "metadata": {
  "kernelspec": {
   "display_name": "Python 3",
   "language": "python",
   "name": "python3"
  },
  "language_info": {
   "codemirror_mode": {
    "name": "ipython",
    "version": 3
   },
   "file_extension": ".py",
   "mimetype": "text/x-python",
   "name": "python",
   "nbconvert_exporter": "python",
   "pygments_lexer": "ipython3",
   "version": "3.8.8"
  }
 },
 "nbformat": 4,
 "nbformat_minor": 5
}
